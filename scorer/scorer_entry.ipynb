{
 "cells": [
  {
   "cell_type": "code",
   "execution_count": 1,
   "metadata": {},
   "outputs": [],
   "source": [
    "from utils import compose_alignment_prompt, generate_aligned_sentences, score_response_json, visualize_results, load_api_key\n",
    "\n",
    "# set auto reload\n",
    "%load_ext autoreload\n",
    "%autoreload 2\n"
   ]
  },
  {
   "cell_type": "code",
   "execution_count": 2,
   "metadata": {},
   "outputs": [],
   "source": [
    "import os\n",
    "# I would never really use a hardcoded path like this, but i'm already out of time...\n",
    "root_path = \"/Users/eduard/workspace/autoscriber/challange_data\"\n",
    "\n",
    "data_pairs = [\n",
    "    {\n",
    "        \"label_text_file\": \"1_confusion-manual-transcript.txt\",\n",
    "        \"predicted_text_file\": \"1_confusion-ASR-transcript.txt\"\n",
    "    },\n",
    "    {\n",
    "        \"label_text_file\": \"Desdemona-Hamoen-Aortadissectie-ASR-transcript.txt\",\n",
    "        \"predicted_text_file\": \"Desdemona-Hamoen-Aortadissectie-manual-transcript.txt\"\n",
    "    },\n",
    "    {\n",
    "        \"label_text_file\": \"Remco-Klok-Pericarditis-ASR-transcript.txt\",\n",
    "        \"predicted_text_file\": \"Remco-Klok-Pericarditis-manual-transcript.txt\"\n",
    "    }\n",
    "]"
   ]
  },
  {
   "cell_type": "code",
   "execution_count": 3,
   "metadata": {},
   "outputs": [],
   "source": [
    "api_key = load_api_key()"
   ]
  },
  {
   "cell_type": "code",
   "execution_count": 4,
   "metadata": {},
   "outputs": [
    {
     "ename": "AttributeError",
     "evalue": "module 'openai' has no attribute 'chat'",
     "output_type": "error",
     "traceback": [
      "\u001b[0;31m---------------------------------------------------------------------------\u001b[0m",
      "\u001b[0;31mAttributeError\u001b[0m                            Traceback (most recent call last)",
      "Cell \u001b[0;32mIn[4], line 4\u001b[0m\n\u001b[1;32m      2\u001b[0m label_text \u001b[38;5;241m=\u001b[39m \u001b[38;5;28mopen\u001b[39m(os\u001b[38;5;241m.\u001b[39mpath\u001b[38;5;241m.\u001b[39mjoin(root_path, file_pair[\u001b[38;5;124m\"\u001b[39m\u001b[38;5;124mlabel_text_file\u001b[39m\u001b[38;5;124m\"\u001b[39m]))\u001b[38;5;241m.\u001b[39mread()\n\u001b[1;32m      3\u001b[0m predicted_text \u001b[38;5;241m=\u001b[39m \u001b[38;5;28mopen\u001b[39m(os\u001b[38;5;241m.\u001b[39mpath\u001b[38;5;241m.\u001b[39mjoin(root_path, file_pair[\u001b[38;5;124m\"\u001b[39m\u001b[38;5;124mpredicted_text_file\u001b[39m\u001b[38;5;124m\"\u001b[39m]))\u001b[38;5;241m.\u001b[39mread()\n\u001b[0;32m----> 4\u001b[0m aligned_sentences \u001b[38;5;241m=\u001b[39m \u001b[43mgenerate_aligned_sentences\u001b[49m\u001b[43m(\u001b[49m\u001b[43mlabel_text\u001b[49m\u001b[43m,\u001b[49m\u001b[43m \u001b[49m\u001b[43mpredicted_text\u001b[49m\u001b[43m)\u001b[49m\n\u001b[1;32m      5\u001b[0m \u001b[38;5;28mprint\u001b[39m(aligned_sentences)\n\u001b[1;32m      6\u001b[0m \u001b[38;5;66;03m# score = score_response_json(aligned_sentences)\u001b[39;00m\n\u001b[1;32m      7\u001b[0m \u001b[38;5;66;03m# print(score)\u001b[39;00m\n",
      "File \u001b[0;32m~/workspace/autoscriber/scorer/utils.py:60\u001b[0m, in \u001b[0;36mgenerate_aligned_sentences\u001b[0;34m(label_text, predicted_text)\u001b[0m\n\u001b[1;32m     57\u001b[0m     \u001b[38;5;28;01mraise\u001b[39;00m \u001b[38;5;167;01mValueError\u001b[39;00m(\u001b[38;5;124m\"\u001b[39m\u001b[38;5;124mOpenAI API key is not set. Please check the \u001b[39m\u001b[38;5;124m'\u001b[39m\u001b[38;5;124mmykey\u001b[39m\u001b[38;5;124m'\u001b[39m\u001b[38;5;124m file.\u001b[39m\u001b[38;5;124m\"\u001b[39m)\n\u001b[1;32m     59\u001b[0m prompt \u001b[38;5;241m=\u001b[39m compose_alignment_prompt(label_text, predicted_text)\n\u001b[0;32m---> 60\u001b[0m response \u001b[38;5;241m=\u001b[39m \u001b[43mopenai\u001b[49m\u001b[38;5;241;43m.\u001b[39;49m\u001b[43mchat\u001b[49m\u001b[38;5;241m.\u001b[39mcompletions\u001b[38;5;241m.\u001b[39mcreate(\n\u001b[1;32m     61\u001b[0m     model\u001b[38;5;241m=\u001b[39m\u001b[38;5;124m\"\u001b[39m\u001b[38;5;124mgpt-4o-mini\u001b[39m\u001b[38;5;124m\"\u001b[39m,\n\u001b[1;32m     62\u001b[0m     messages\u001b[38;5;241m=\u001b[39m[{\u001b[38;5;124m\"\u001b[39m\u001b[38;5;124mrole\u001b[39m\u001b[38;5;124m\"\u001b[39m: \u001b[38;5;124m\"\u001b[39m\u001b[38;5;124muser\u001b[39m\u001b[38;5;124m\"\u001b[39m, \u001b[38;5;124m\"\u001b[39m\u001b[38;5;124mcontent\u001b[39m\u001b[38;5;124m\"\u001b[39m: prompt}],\n\u001b[1;32m     63\u001b[0m     response_format\u001b[38;5;241m=\u001b[39m{\u001b[38;5;124m\"\u001b[39m\u001b[38;5;124mtype\u001b[39m\u001b[38;5;124m\"\u001b[39m: \u001b[38;5;124m\"\u001b[39m\u001b[38;5;124mjson_object\u001b[39m\u001b[38;5;124m\"\u001b[39m}\n\u001b[1;32m     64\u001b[0m )\n\u001b[1;32m     66\u001b[0m \u001b[38;5;66;03m# Return the content from the response\u001b[39;00m\n\u001b[1;32m     67\u001b[0m \u001b[38;5;28;01mreturn\u001b[39;00m response\u001b[38;5;241m.\u001b[39mchoices[\u001b[38;5;241m0\u001b[39m]\u001b[38;5;241m.\u001b[39mmessage\u001b[38;5;241m.\u001b[39mcontent\n",
      "\u001b[0;31mAttributeError\u001b[0m: module 'openai' has no attribute 'chat'"
     ]
    }
   ],
   "source": [
    "for file_pair in data_pairs:\n",
    "    label_text = open(os.path.join(root_path, file_pair[\"label_text_file\"])).read()\n",
    "    predicted_text = open(os.path.join(root_path, file_pair[\"predicted_text_file\"])).read()\n",
    "    aligned_sentences = generate_aligned_sentences(label_text, predicted_text)\n",
    "    print(aligned_sentences)\n",
    "    # score = score_response_json(aligned_sentences)\n",
    "    # print(score)"
   ]
  },
  {
   "cell_type": "code",
   "execution_count": null,
   "metadata": {},
   "outputs": [],
   "source": []
  },
  {
   "cell_type": "code",
   "execution_count": null,
   "metadata": {},
   "outputs": [],
   "source": []
  }
 ],
 "metadata": {
  "kernelspec": {
   "display_name": "llenv",
   "language": "python",
   "name": "python3"
  },
  "language_info": {
   "codemirror_mode": {
    "name": "ipython",
    "version": 3
   },
   "file_extension": ".py",
   "mimetype": "text/x-python",
   "name": "python",
   "nbconvert_exporter": "python",
   "pygments_lexer": "ipython3",
   "version": "3.10.4"
  }
 },
 "nbformat": 4,
 "nbformat_minor": 2
}
