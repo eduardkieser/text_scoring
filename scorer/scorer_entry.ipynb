{
 "cells": [
  {
   "cell_type": "code",
   "execution_count": null,
   "metadata": {},
   "outputs": [],
   "source": [
    "! pip install openai"
   ]
  },
  {
   "cell_type": "code",
   "execution_count": null,
   "metadata": {},
   "outputs": [],
   "source": [
    "from openai import OpenAI\n",
    "# this works in the terminal, but not in the notebook, calling it.."
   ]
  },
  {
   "cell_type": "code",
   "execution_count": null,
   "metadata": {},
   "outputs": [],
   "source": [
    "# set auto reload\n",
    "%load_ext autoreload\n",
    "%autoreload 2\n",
    "\n",
    "from utils import *"
   ]
  },
  {
   "cell_type": "code",
   "execution_count": 2,
   "metadata": {},
   "outputs": [],
   "source": [
    "import os\n",
    "# I would never really use a hardcoded path like this, but i'm already out of time...\n",
    "root_path = \"/Users/eduard/workspace/autoscriber/challange_data\"\n",
    "\n",
    "data_pairs = [\n",
    "    {\n",
    "        \"label_text_file\": \"1_confusion-manual-transcript.txt\",\n",
    "        \"predicted_text_file\": \"1_confusion-ASR-transcript.txt\"\n",
    "    },\n",
    "    {\n",
    "        \"label_text_file\": \"Desdemona-Hamoen-Aortadissectie-ASR-transcript.txt\",\n",
    "        \"predicted_text_file\": \"Desdemona-Hamoen-Aortadissectie-manual-transcript.txt\"\n",
    "    },\n",
    "    {\n",
    "        \"label_text_file\": \"Remco-Klok-Pericarditis-ASR-transcript.txt\",\n",
    "        \"predicted_text_file\": \"Remco-Klok-Pericarditis-manual-transcript.txt\"\n",
    "    }\n",
    "]"
   ]
  },
  {
   "cell_type": "code",
   "execution_count": 3,
   "metadata": {},
   "outputs": [],
   "source": [
    "api_key = load_api_key()"
   ]
  },
  {
   "cell_type": "code",
   "execution_count": null,
   "metadata": {},
   "outputs": [],
   "source": [
    "for file_pair in data_pairs:\n",
    "    label_text = open(os.path.join(root_path, file_pair[\"label_text_file\"])).read()\n",
    "    predicted_text = open(os.path.join(root_path, file_pair[\"predicted_text_file\"])).read()\n",
    "    aligned_sentences = generate_aligned_sentences(label_text, predicted_text)\n",
    "    print(aligned_sentences)\n",
    "    # score = score_response_json(aligned_sentences)\n",
    "    # print(score)"
   ]
  },
  {
   "cell_type": "code",
   "execution_count": null,
   "metadata": {},
   "outputs": [],
   "source": []
  },
  {
   "cell_type": "code",
   "execution_count": null,
   "metadata": {},
   "outputs": [],
   "source": []
  }
 ],
 "metadata": {
  "kernelspec": {
   "display_name": "llenv",
   "language": "python",
   "name": "python3"
  },
  "language_info": {
   "codemirror_mode": {
    "name": "ipython",
    "version": 3
   },
   "file_extension": ".py",
   "mimetype": "text/x-python",
   "name": "python",
   "nbconvert_exporter": "python",
   "pygments_lexer": "ipython3",
   "version": "3.10.4"
  }
 },
 "nbformat": 4,
 "nbformat_minor": 2
}
